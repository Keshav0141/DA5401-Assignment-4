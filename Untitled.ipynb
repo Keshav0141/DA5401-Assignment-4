{
 "cells": [
  {
   "cell_type": "markdown",
   "id": "034c4fb5-c1ca-4877-89ef-116a72a055e8",
   "metadata": {},
   "source": [
    "# DA5401 A4 — GMM-Based Synthetic Sampling for Imbalanced Data\n",
    "\n",
    "**Notebook structure**\n",
    "- Part A: Baseline & Data Analysis\n",
    "- Part B: GMM-based Synthetic Sampling (theory, implementation, generation, hybrid rebalancing)\n",
    "- Part C: Performance Evaluation & Conclusion\n"
   ]
  },
  {
   "cell_type": "markdown",
   "id": "4480c30b-5ac2-40d8-99b3-34b53450101c",
   "metadata": {},
   "source": [
    "## Part A — Baseline & Data Analysis\n",
    "\n",
    "This part reuses the work from A3:\n",
    "1. Load dataset\n",
    "2. Show class distribution and EDA summary\n",
    "3. Train baseline Logistic Regression on imbalanced data\n",
    "4. Evaluate on original imbalanced test set\n"
   ]
  },
  {
   "cell_type": "code",
   "execution_count": 11,
   "id": "8d49eb2f-494f-4890-baf4-fd00aef28414",
   "metadata": {},
   "outputs": [],
   "source": [
    "# Part A - Code cell\n",
    "import pandas as pd\n",
    "import numpy as np\n",
    "import matplotlib.pyplot as plt\n",
    "from sklearn.model_selection import train_test_split\n",
    "from sklearn.preprocessing import StandardScaler\n",
    "from sklearn.linear_model import LogisticRegression\n",
    "from sklearn.metrics import classification_report, confusion_matrix\n",
    "import warnings\n",
    "warnings.filterwarnings(\"ignore\")"
   ]
  },
  {
   "cell_type": "code",
   "execution_count": 4,
   "id": "c40a9f5a-9bfe-4b74-b151-4b2856ff0151",
   "metadata": {},
   "outputs": [
    {
     "name": "stdout",
     "output_type": "stream",
     "text": [
      "Shape: (284807, 31)\n"
     ]
    },
    {
     "data": {
      "text/html": [
       "<div>\n",
       "<style scoped>\n",
       "    .dataframe tbody tr th:only-of-type {\n",
       "        vertical-align: middle;\n",
       "    }\n",
       "\n",
       "    .dataframe tbody tr th {\n",
       "        vertical-align: top;\n",
       "    }\n",
       "\n",
       "    .dataframe thead th {\n",
       "        text-align: right;\n",
       "    }\n",
       "</style>\n",
       "<table border=\"1\" class=\"dataframe\">\n",
       "  <thead>\n",
       "    <tr style=\"text-align: right;\">\n",
       "      <th></th>\n",
       "      <th>Time</th>\n",
       "      <th>V1</th>\n",
       "      <th>V2</th>\n",
       "      <th>V3</th>\n",
       "      <th>V4</th>\n",
       "      <th>V5</th>\n",
       "      <th>V6</th>\n",
       "      <th>V7</th>\n",
       "      <th>V8</th>\n",
       "      <th>V9</th>\n",
       "      <th>...</th>\n",
       "      <th>V21</th>\n",
       "      <th>V22</th>\n",
       "      <th>V23</th>\n",
       "      <th>V24</th>\n",
       "      <th>V25</th>\n",
       "      <th>V26</th>\n",
       "      <th>V27</th>\n",
       "      <th>V28</th>\n",
       "      <th>Amount</th>\n",
       "      <th>Class</th>\n",
       "    </tr>\n",
       "  </thead>\n",
       "  <tbody>\n",
       "    <tr>\n",
       "      <th>0</th>\n",
       "      <td>0.0</td>\n",
       "      <td>-1.359807</td>\n",
       "      <td>-0.072781</td>\n",
       "      <td>2.536347</td>\n",
       "      <td>1.378155</td>\n",
       "      <td>-0.338321</td>\n",
       "      <td>0.462388</td>\n",
       "      <td>0.239599</td>\n",
       "      <td>0.098698</td>\n",
       "      <td>0.363787</td>\n",
       "      <td>...</td>\n",
       "      <td>-0.018307</td>\n",
       "      <td>0.277838</td>\n",
       "      <td>-0.110474</td>\n",
       "      <td>0.066928</td>\n",
       "      <td>0.128539</td>\n",
       "      <td>-0.189115</td>\n",
       "      <td>0.133558</td>\n",
       "      <td>-0.021053</td>\n",
       "      <td>149.62</td>\n",
       "      <td>0</td>\n",
       "    </tr>\n",
       "    <tr>\n",
       "      <th>1</th>\n",
       "      <td>0.0</td>\n",
       "      <td>1.191857</td>\n",
       "      <td>0.266151</td>\n",
       "      <td>0.166480</td>\n",
       "      <td>0.448154</td>\n",
       "      <td>0.060018</td>\n",
       "      <td>-0.082361</td>\n",
       "      <td>-0.078803</td>\n",
       "      <td>0.085102</td>\n",
       "      <td>-0.255425</td>\n",
       "      <td>...</td>\n",
       "      <td>-0.225775</td>\n",
       "      <td>-0.638672</td>\n",
       "      <td>0.101288</td>\n",
       "      <td>-0.339846</td>\n",
       "      <td>0.167170</td>\n",
       "      <td>0.125895</td>\n",
       "      <td>-0.008983</td>\n",
       "      <td>0.014724</td>\n",
       "      <td>2.69</td>\n",
       "      <td>0</td>\n",
       "    </tr>\n",
       "    <tr>\n",
       "      <th>2</th>\n",
       "      <td>1.0</td>\n",
       "      <td>-1.358354</td>\n",
       "      <td>-1.340163</td>\n",
       "      <td>1.773209</td>\n",
       "      <td>0.379780</td>\n",
       "      <td>-0.503198</td>\n",
       "      <td>1.800499</td>\n",
       "      <td>0.791461</td>\n",
       "      <td>0.247676</td>\n",
       "      <td>-1.514654</td>\n",
       "      <td>...</td>\n",
       "      <td>0.247998</td>\n",
       "      <td>0.771679</td>\n",
       "      <td>0.909412</td>\n",
       "      <td>-0.689281</td>\n",
       "      <td>-0.327642</td>\n",
       "      <td>-0.139097</td>\n",
       "      <td>-0.055353</td>\n",
       "      <td>-0.059752</td>\n",
       "      <td>378.66</td>\n",
       "      <td>0</td>\n",
       "    </tr>\n",
       "    <tr>\n",
       "      <th>3</th>\n",
       "      <td>1.0</td>\n",
       "      <td>-0.966272</td>\n",
       "      <td>-0.185226</td>\n",
       "      <td>1.792993</td>\n",
       "      <td>-0.863291</td>\n",
       "      <td>-0.010309</td>\n",
       "      <td>1.247203</td>\n",
       "      <td>0.237609</td>\n",
       "      <td>0.377436</td>\n",
       "      <td>-1.387024</td>\n",
       "      <td>...</td>\n",
       "      <td>-0.108300</td>\n",
       "      <td>0.005274</td>\n",
       "      <td>-0.190321</td>\n",
       "      <td>-1.175575</td>\n",
       "      <td>0.647376</td>\n",
       "      <td>-0.221929</td>\n",
       "      <td>0.062723</td>\n",
       "      <td>0.061458</td>\n",
       "      <td>123.50</td>\n",
       "      <td>0</td>\n",
       "    </tr>\n",
       "    <tr>\n",
       "      <th>4</th>\n",
       "      <td>2.0</td>\n",
       "      <td>-1.158233</td>\n",
       "      <td>0.877737</td>\n",
       "      <td>1.548718</td>\n",
       "      <td>0.403034</td>\n",
       "      <td>-0.407193</td>\n",
       "      <td>0.095921</td>\n",
       "      <td>0.592941</td>\n",
       "      <td>-0.270533</td>\n",
       "      <td>0.817739</td>\n",
       "      <td>...</td>\n",
       "      <td>-0.009431</td>\n",
       "      <td>0.798278</td>\n",
       "      <td>-0.137458</td>\n",
       "      <td>0.141267</td>\n",
       "      <td>-0.206010</td>\n",
       "      <td>0.502292</td>\n",
       "      <td>0.219422</td>\n",
       "      <td>0.215153</td>\n",
       "      <td>69.99</td>\n",
       "      <td>0</td>\n",
       "    </tr>\n",
       "  </tbody>\n",
       "</table>\n",
       "<p>5 rows × 31 columns</p>\n",
       "</div>"
      ],
      "text/plain": [
       "   Time        V1        V2        V3        V4        V5        V6        V7  \\\n",
       "0   0.0 -1.359807 -0.072781  2.536347  1.378155 -0.338321  0.462388  0.239599   \n",
       "1   0.0  1.191857  0.266151  0.166480  0.448154  0.060018 -0.082361 -0.078803   \n",
       "2   1.0 -1.358354 -1.340163  1.773209  0.379780 -0.503198  1.800499  0.791461   \n",
       "3   1.0 -0.966272 -0.185226  1.792993 -0.863291 -0.010309  1.247203  0.237609   \n",
       "4   2.0 -1.158233  0.877737  1.548718  0.403034 -0.407193  0.095921  0.592941   \n",
       "\n",
       "         V8        V9  ...       V21       V22       V23       V24       V25  \\\n",
       "0  0.098698  0.363787  ... -0.018307  0.277838 -0.110474  0.066928  0.128539   \n",
       "1  0.085102 -0.255425  ... -0.225775 -0.638672  0.101288 -0.339846  0.167170   \n",
       "2  0.247676 -1.514654  ...  0.247998  0.771679  0.909412 -0.689281 -0.327642   \n",
       "3  0.377436 -1.387024  ... -0.108300  0.005274 -0.190321 -1.175575  0.647376   \n",
       "4 -0.270533  0.817739  ... -0.009431  0.798278 -0.137458  0.141267 -0.206010   \n",
       "\n",
       "        V26       V27       V28  Amount  Class  \n",
       "0 -0.189115  0.133558 -0.021053  149.62      0  \n",
       "1  0.125895 -0.008983  0.014724    2.69      0  \n",
       "2 -0.139097 -0.055353 -0.059752  378.66      0  \n",
       "3 -0.221929  0.062723  0.061458  123.50      0  \n",
       "4  0.502292  0.219422  0.215153   69.99      0  \n",
       "\n",
       "[5 rows x 31 columns]"
      ]
     },
     "metadata": {},
     "output_type": "display_data"
    }
   ],
   "source": [
    "# 1. Load dataset\n",
    "df = pd.read_csv(\"creditcard.csv\")  # adjust path if needed\n",
    "print(\"Shape:\", df.shape)\n",
    "display(df.head())"
   ]
  },
  {
   "cell_type": "code",
   "execution_count": 5,
   "id": "6d886d70-5fcc-48b3-8318-679affe21a25",
   "metadata": {},
   "outputs": [
    {
     "name": "stdout",
     "output_type": "stream",
     "text": [
      "\n",
      "Class distribution:\n",
      " Class\n",
      "0    284315\n",
      "1       492\n",
      "Name: count, dtype: int64\n"
     ]
    }
   ],
   "source": [
    "# 2. Class distribution\n",
    "class_counts = df[\"Class\"].value_counts()\n",
    "print(\"\\nClass distribution:\\n\", class_counts)"
   ]
  },
  {
   "cell_type": "code",
   "execution_count": 6,
   "id": "275b33a4-96c9-4b1a-970c-b36363b2d756",
   "metadata": {},
   "outputs": [
    {
     "data": {
      "image/png": "[encoded data removed]",
      "text/plain": [
       "<Figure size 600x400 with 1 Axes>"
      ]
     },
     "metadata": {},
     "output_type": "display_data"
    },
    {
     "data": {
      "image/png": "[encoded data removed]",
      "text/plain": [
       "<Figure size 400x400 with 1 Axes>"
      ]
     },
     "metadata": {},
     "output_type": "display_data"
    }
   ],
   "source": [
    "# Visualize\n",
    "plt.figure(figsize=(6,4))\n",
    "class_counts.plot(kind=\"bar\", color=[\"skyblue\",\"salmon\"])\n",
    "plt.title(\"Class Distribution (0=Non-Fraud, 1=Fraud)\")\n",
    "plt.xlabel(\"Class\")\n",
    "plt.ylabel(\"Count\")\n",
    "plt.show()\n",
    "\n",
    "plt.figure(figsize=(4,4))\n",
    "class_counts.plot(kind=\"pie\", autopct=\"%1.4f%%\", colors=[\"skyblue\",\"salmon\"], startangle=90)\n",
    "plt.title(\"Class distribution\")\n",
    "plt.ylabel(\"\")\n",
    "plt.show()"
   ]
  },
  {
   "cell_type": "code",
   "execution_count": 7,
   "id": "da8c363d-d3de-4257-9c6a-e7cf50b8a110",
   "metadata": {},
   "outputs": [
    {
     "name": "stdout",
     "output_type": "stream",
     "text": [
      "\n",
      "Train shape: (199364, 30) Test shape: (85443, 30)\n",
      "\n",
      "Training class counts:\n",
      " Class\n",
      "0    199020\n",
      "1       344\n",
      "Name: count, dtype: int64\n",
      "\n",
      "Test class counts:\n",
      " Class\n",
      "0    85295\n",
      "1      148\n",
      "Name: count, dtype: int64\n"
     ]
    }
   ],
   "source": [
    "# 3. Train/test split (retain imbalance in test)\n",
    "X = df.drop(columns=[\"Class\"])\n",
    "y = df[\"Class\"]\n",
    "\n",
    "X_train, X_test, y_train, y_test = train_test_split(\n",
    "    X, y, test_size=0.30, random_state=42, stratify=y\n",
    ")\n",
    "\n",
    "print(\"\\nTrain shape:\", X_train.shape, \"Test shape:\", X_test.shape)\n",
    "print(\"\\nTraining class counts:\\n\", y_train.value_counts())\n",
    "print(\"\\nTest class counts:\\n\", y_test.value_counts())"
   ]
  },
  {
   "cell_type": "code",
   "execution_count": 8,
   "id": "a32326a1-20e7-4365-bbaf-ddf27166f560",
   "metadata": {},
   "outputs": [],
   "source": [
    "# 4. Scale features\n",
    "scaler = StandardScaler()\n",
    "X_train_scaled = scaler.fit_transform(X_train)\n",
    "X_test_scaled = scaler.transform(X_test)"
   ]
  },
  {
   "cell_type": "code",
   "execution_count": 9,
   "id": "0505fb1f-e9bb-4198-87ca-f3efe89799f9",
   "metadata": {},
   "outputs": [
    {
     "name": "stdout",
     "output_type": "stream",
     "text": [
      "\n",
      "=== Baseline Logistic Regression (Imbalanced) ===\n",
      "              precision    recall  f1-score   support\n",
      "\n",
      "           0     0.9993    0.9998    0.9996     85295\n",
      "           1     0.8505    0.6149    0.7137       148\n",
      "\n",
      "    accuracy                         0.9991     85443\n",
      "   macro avg     0.9249    0.8073    0.8566     85443\n",
      "weighted avg     0.9991    0.9991    0.9991     85443\n",
      "\n",
      "Confusion matrix:\n",
      " [[85279    16]\n",
      " [   57    91]]\n"
     ]
    }
   ],
   "source": [
    "# 5. Baseline logistic regression (imbalanced)\n",
    "lr_baseline = LogisticRegression(max_iter=1000, random_state=42)\n",
    "lr_baseline.fit(X_train_scaled, y_train)\n",
    "\n",
    "y_pred_baseline = lr_baseline.predict(X_test_scaled)\n",
    "print(\"\\n=== Baseline Logistic Regression (Imbalanced) ===\")\n",
    "print(classification_report(y_test, y_pred_baseline, digits=4))\n",
    "print(\"Confusion matrix:\\n\", confusion_matrix(y_test, y_pred_baseline))"
   ]
  },
  {
   "cell_type": "markdown",
   "id": "b2ddf6bf-ed81-49fa-9993-902074146155",
   "metadata": {},
   "source": [
    "# Part A — EDA summary (paste as a Markdown cell)\n",
    "\n",
    "- **Observations:** 284,807  \n",
    "- **Features:** 31 (Time, Amount, V1–V28, Class)  \n",
    "- **Missing values:** 0 (dataset clean)  \n",
    "- **Class distribution:**  \n",
    "  - Non-Fraud (0): 284,315 (≈99.83%)  \n",
    "  - Fraud (1): 492 (≈0.17%)  \n",
    "- **Imbalance ratio:** ~1 : 578  \n",
    "- **Notes:** Features V1–V28 are PCA components. 'Amount' should be scaled. Accuracy is misleading in this dataset; use precision, recall, F1 for minority class.\n"
   ]
  },
  {
   "cell_type": "markdown",
   "id": "d2b207d1-61fd-4c1b-8b50-4c4fcadc7c8f",
   "metadata": {},
   "source": [
    "# Part B — GMM-Based Synthetic Sampling (Theory + Implementation)\n",
    "\n",
    "Plan:\n",
    "1. Theory: What GMM sampling is and how it differs from SMOTE (markdown)\n",
    "2. Fit GMM on minority training samples; choose #components k via BIC/AIC (code)\n",
    "3. Sample synthetic minority points from fitted GMM to reach target count (code)\n",
    "4. Hybrid rebalancing: optionally apply ClusterCentroids (CBU) to majority & GMM-upsample minority to match (code)\n",
    "5. Train Logistic Regression on GMM-balanced data (code)\n"
   ]
  },
  {
   "cell_type": "markdown",
   "id": "d8832dec-3236-4665-8050-336c98139d1c",
   "metadata": {},
   "source": [
    "# Part B.1 — Theory (Markdown)\n",
    "\n",
    "**GMM vs SMOTE — key differences**\n",
    "\n",
    "- **SMOTE**: local interpolation between nearest minority neighbors:\n",
    "  $$ x_{new} = x_i + \\lambda (x_{nn} - x_i), \\quad \\lambda\\sim U(0,1) $$\n",
    "  It creates synthetic points along line segments between existing minority samples. Good for creating more points but can generate points in overlapping or sparse regions (noise).\n",
    "\n",
    "- **GMM-based sampling**: model-based generative approach. Fit a Gaussian Mixture Model (GMM) to minority data:\n",
    "  $$ p(x) = \\sum_{j=1}^k \\pi_j \\mathcal{N}(x \\mid \\mu_j, \\Sigma_j) $$\n",
    "  where $\\pi_j$ are mixture weights, $\\mu_j$ means, $\\Sigma_j$ covariances. To generate samples, first sample component index $j \\sim \\text{Categorical}(\\pi)$, then sample $x \\sim \\mathcal{N}(\\mu_j,\\Sigma_j)$.\n",
    "\n",
    "**Why GMM can be better**\n",
    "- Captures **multi-modal** minority distributions (multiple subgroups).\n",
    "- Generates samples consistent with estimated density — less likely to create points in empty regions.\n",
    "- Covariance allows shape modeling (elliptical clusters), not only linear interpolation.\n",
    "\n",
    "**Caveats**\n",
    "- GMM assumes Gaussian components; if actual minority clusters are highly non-Gaussian the fit may be imperfect.\n",
    "- Selecting number of components $k$ matters — use AIC/BIC to pick $k$.\n"
   ]
  },
  {
   "cell_type": "code",
   "execution_count": 13,
   "id": "a60cd10f-7565-42ad-bbee-f4d1d474ecc9",
   "metadata": {},
   "outputs": [
    {
     "name": "stdout",
     "output_type": "stream",
     "text": [
      "Minority training samples: 344\n"
     ]
    }
   ],
   "source": [
    "# Part B.2 — Fit GMM on minority class and choose k via AIC/BIC\n",
    "from sklearn.mixture import GaussianMixture\n",
    "import matplotlib.pyplot as plt\n",
    "\n",
    "# Extract minority points from training set (scaled)\n",
    "X_minority = X_train_scaled[y_train == 1]\n",
    "print(\"Minority training samples:\", X_minority.shape[0])"
   ]
  },
  {
   "cell_type": "code",
   "execution_count": 14,
   "id": "7c960fbf-0ee2-4644-8c83-60318cf02257",
   "metadata": {},
   "outputs": [],
   "source": [
    "# Evaluate GMM for several k using BIC/AIC\n",
    "ks = list(range(1, 11))\n",
    "bics = []\n",
    "aics = []\n",
    "gmm_models = {}\n",
    "\n",
    "for k in ks:\n",
    "    gmm = GaussianMixture(n_components=k, covariance_type='full', random_state=42, n_init=5)\n",
    "    gmm.fit(X_minority)\n",
    "    bics.append(gmm.bic(X_minority))\n",
    "    aics.append(gmm.aic(X_minority))\n",
    "    gmm_models[k] = gmm"
   ]
  },
  {
   "cell_type": "code",
   "execution_count": 15,
   "id": "1a9aa519-0496-4e74-b3a7-08136256e533",
   "metadata": {},
   "outputs": [
    {
     "data": {
      "image/png": "[encoded data removed]",
      "text/plain": [
       "<Figure size 800x400 with 1 Axes>"
      ]
     },
     "metadata": {},
     "output_type": "display_data"
    },
    {
     "name": "stdout",
     "output_type": "stream",
     "text": [
      "Selected k by BIC: 3\n"
     ]
    }
   ],
   "source": [
    "plt.figure(figsize=(8,4))\n",
    "plt.plot(ks, bics, label='BIC', marker='o')\n",
    "plt.plot(ks, aics, label='AIC', marker='o')\n",
    "plt.xlabel('Number of GMM components (k)')\n",
    "plt.ylabel('BIC / AIC')\n",
    "plt.title('GMM model selection (minority class)')\n",
    "plt.legend()\n",
    "plt.show()\n",
    "\n",
    "# Choose k with lowest BIC (or AIC). Example:\n",
    "best_k = ks[int(np.argmin(bics))]\n",
    "print(\"Selected k by BIC:\", best_k)\n",
    "gmm_best = gmm_models[best_k]"
   ]
  },
  {
   "cell_type": "markdown",
   "id": "0b9fa066-76bf-40cc-8ced-07570ec327b9",
   "metadata": {},
   "source": [
    "# Part B.3 — Generate synthetic samples from fitted GMM (Markdown)\n",
    "\n",
    "**Sampling from GMM**\n",
    "1. GMM parameterizes $p(x)=\\sum_{j=1}^k \\pi_j \\mathcal{N}(x|\\mu_j,\\Sigma_j)$.\n",
    "2. To draw a sample:\n",
    "   - sample component index $j \\sim \\text{Categorical}(\\pi)$\n",
    "   - sample $x \\sim \\mathcal{N}(\\mu_j,\\Sigma_j)$\n",
    "3. Repeat to generate required number of synthetic minority points.\n"
   ]
  },
  {
   "cell_type": "code",
   "execution_count": 16,
   "id": "9235fb84-4702-4c5f-a558-f3886c4d52db",
   "metadata": {},
   "outputs": [
    {
     "name": "stdout",
     "output_type": "stream",
     "text": [
      "Majority: 199020 Minority: 344\n",
      "Synthetic samples to generate: 198676\n",
      "After GMM upsampling class counts: Counter({np.int64(0): 199020, np.int64(1): 199020})\n"
     ]
    }
   ],
   "source": [
    "# Part B.3 — Generate synthetic samples to balance dataset\n",
    "from collections import Counter\n",
    "\n",
    "# Determine target minority count (option 1: match majority; option 2: partial)\n",
    "majority_count = np.sum(y_train == 0)\n",
    "minority_count = np.sum(y_train == 1)\n",
    "print(\"Majority:\", majority_count, \"Minority:\", minority_count)\n",
    "\n",
    "# Option: fully balance to majority_count\n",
    "target_minority = majority_count\n",
    "\n",
    "# Number to generate:\n",
    "n_to_generate = int(target_minority - minority_count)\n",
    "print(\"Synthetic samples to generate:\", n_to_generate)\n",
    "\n",
    "# Generate synthetic samples using fitted GMM gmm_best\n",
    "X_synth = gmm_best.sample(n_to_generate)[0]  # .sample returns (X, labels)\n",
    "# Note: samples are in scaled space (same scale as X_train_scaled)\n",
    "\n",
    "# Combine synthetic minority with original training set\n",
    "X_train_gmm = np.vstack([X_train_scaled, X_synth])\n",
    "y_train_gmm = np.hstack([y_train.values, np.ones(len(X_synth), dtype=int)])\n",
    "\n",
    "print(\"After GMM upsampling class counts:\", Counter(y_train_gmm))\n"
   ]
  },
  {
   "cell_type": "markdown",
   "id": "b006c819-939d-46a1-b53b-2bf3fe04d595",
   "metadata": {},
   "source": [
    "# Part B.4 — Hybrid: CBU + GMM (optional)\n",
    "\n",
    "Approach:\n",
    "1. Use ClusterCentroids (imblearn) to reduce majority size to a manageable target (e.g., to some multiple of minority).\n",
    "2. Use GMM to upsample minority to match the reduced majority.\n",
    "3. This hybrid reduces the number of synthetic samples needed and retains representative majority structure.\n"
   ]
  },
  {
   "cell_type": "code",
   "execution_count": 18,
   "id": "5c00d0ca-c3cc-45aa-b059-09a946307079",
   "metadata": {},
   "outputs": [
    {
     "name": "stdout",
     "output_type": "stream",
     "text": [
      "After CBU undersampling counts: Counter({0: 344, 1: 344})\n",
      "After CBU: majority: 344 minority: 344\n",
      "GMM samples needed for hybrid: 0\n",
      "Hybrid training counts: Counter({0: 344, 1: 344})\n"
     ]
    }
   ],
   "source": [
    "# Part B.4 — Hybrid rebalancing: undersample majority (ClusterCentroids) then gmm-oversample minority to match\n",
    "from imblearn.under_sampling import ClusterCentroids\n",
    "\n",
    "# Decide a target majority size, e.g., equal to 5x minority or equal to original minority * some factor.\n",
    "# Here we will reduce majority to the minority_count (pure balance) to demonstrate CBU + GMM:\n",
    "cbu = ClusterCentroids(random_state=42)\n",
    "\n",
    "# Apply CBU on scaled train data\n",
    "X_train_cbu_tmp, y_train_cbu_tmp = cbu.fit_resample(X_train_scaled, y_train)\n",
    "print(\"After CBU undersampling counts:\", Counter(y_train_cbu_tmp))\n",
    "\n",
    "# After undersampling, recompute counts and sample from GMM if needed\n",
    "maj_count_after = np.sum(y_train_cbu_tmp == 0)\n",
    "min_count_after = np.sum(y_train_cbu_tmp == 1)\n",
    "print(\"After CBU: majority:\", maj_count_after, \"minority:\", min_count_after)\n",
    "\n",
    "# If GMM used to increase minority to match majority after CBU:\n",
    "n_needed = maj_count_after - min_count_after\n",
    "print(\"GMM samples needed for hybrid:\", n_needed)\n",
    "\n",
    "if n_needed > 0:\n",
    "    X_synth_hybrid = gmm_best.sample(n_needed)[0]\n",
    "    X_train_hybrid = np.vstack([X_train_cbu_tmp, X_synth_hybrid])\n",
    "    y_train_hybrid = np.hstack([y_train_cbu_tmp, np.ones(len(X_synth_hybrid), dtype=int)])\n",
    "else:\n",
    "    X_train_hybrid = X_train_cbu_tmp\n",
    "    y_train_hybrid = y_train_cbu_tmp\n",
    "\n",
    "print(\"Hybrid training counts:\", Counter(y_train_hybrid))\n"
   ]
  },
  {
   "cell_type": "markdown",
   "id": "eb012eae-5105-42d3-aba4-4d7e4d803942",
   "metadata": {},
   "source": [
    "# Part B — Short notes\n",
    "\n",
    "- All generated samples are in the scaled feature space (we sampled after scaling). If you need original-scale amounts for interpretation, inverse-transform the scaled features.\n",
    "- GMM sampling is probabilistic; set random_state inside GaussianMixture for reproducibility.\n"
   ]
  },
  {
   "cell_type": "markdown",
   "id": "6c360d74-6022-4187-a6e6-e3788d61a6c0",
   "metadata": {},
   "source": [
    "# Part C — Model Training, Evaluation & Comparative Analysis\n",
    "\n",
    "This part:\n",
    "1. Train Logistic Regression on:\n",
    "   - Baseline (already trained)\n",
    "   - GMM-balanced dataset (and hybrid dataset if created)\n",
    "2. Evaluate on original imbalanced test set\n",
    "3. Prepare a comparison table and plot for minority class (precision, recall, f1)\n",
    "4. Provide final recommendation\n"
   ]
  },
  {
   "cell_type": "code",
   "execution_count": 19,
   "id": "375d6d5a-e147-4f42-a471-fe4e206966de",
   "metadata": {},
   "outputs": [
    {
     "name": "stdout",
     "output_type": "stream",
     "text": [
      "\n",
      "=== Logistic Regression trained on GMM-balanced data ===\n",
      "              precision    recall  f1-score   support\n",
      "\n",
      "           0     0.9998    0.9847    0.9922     85295\n",
      "           1     0.0887    0.8581    0.1608       148\n",
      "\n",
      "    accuracy                         0.9845     85443\n",
      "   macro avg     0.5442    0.9214    0.5765     85443\n",
      "weighted avg     0.9982    0.9845    0.9907     85443\n",
      "\n",
      "Confusion matrix:\n",
      " [[83990  1305]\n",
      " [   21   127]]\n"
     ]
    }
   ],
   "source": [
    "# Part C — Train and evaluate LR on GMM-balanced data\n",
    "# If you used the full balancing (X_train_gmm, y_train_gmm), use that; else use hybrid (X_train_hybrid)\n",
    "\n",
    "# Choose which to evaluate: X_train_gmm / y_train_gmm  OR  X_train_hybrid / y_train_hybrid\n",
    "X_train_to_use = X_train_gmm    # or X_train_hybrid\n",
    "y_train_to_use = y_train_gmm    # or y_train_hybrid\n",
    "\n",
    "# Train LR\n",
    "lr_gmm = LogisticRegression(max_iter=1000, random_state=42)\n",
    "lr_gmm.fit(X_train_to_use, y_train_to_use)\n",
    "\n",
    "# Evaluate on original (imbalanced) test set (scaled)\n",
    "y_pred_gmm = lr_gmm.predict(X_test_scaled)\n",
    "print(\"\\n=== Logistic Regression trained on GMM-balanced data ===\")\n",
    "print(classification_report(y_test, y_pred_gmm, digits=4))\n",
    "print(\"Confusion matrix:\\n\", confusion_matrix(y_test, y_pred_gmm))\n"
   ]
  },
  {
   "cell_type": "code",
   "execution_count": 20,
   "id": "ee2651bb-52d2-40c5-a0d1-7f46cf213176",
   "metadata": {},
   "outputs": [
    {
     "data": {
      "text/html": [
       "<div>\n",
       "<style scoped>\n",
       "    .dataframe tbody tr th:only-of-type {\n",
       "        vertical-align: middle;\n",
       "    }\n",
       "\n",
       "    .dataframe tbody tr th {\n",
       "        vertical-align: top;\n",
       "    }\n",
       "\n",
       "    .dataframe thead th {\n",
       "        text-align: right;\n",
       "    }\n",
       "</style>\n",
       "<table border=\"1\" class=\"dataframe\">\n",
       "  <thead>\n",
       "    <tr style=\"text-align: right;\">\n",
       "      <th></th>\n",
       "      <th>precision</th>\n",
       "      <th>recall</th>\n",
       "      <th>f1</th>\n",
       "    </tr>\n",
       "    <tr>\n",
       "      <th>model</th>\n",
       "      <th></th>\n",
       "      <th></th>\n",
       "      <th></th>\n",
       "    </tr>\n",
       "  </thead>\n",
       "  <tbody>\n",
       "    <tr>\n",
       "      <th>Baseline (LR)</th>\n",
       "      <td>0.850467</td>\n",
       "      <td>0.614865</td>\n",
       "      <td>0.713725</td>\n",
       "    </tr>\n",
       "    <tr>\n",
       "      <th>GMM-balanced (LR)</th>\n",
       "      <td>0.088687</td>\n",
       "      <td>0.858108</td>\n",
       "      <td>0.160759</td>\n",
       "    </tr>\n",
       "  </tbody>\n",
       "</table>\n",
       "</div>"
      ],
      "text/plain": [
       "                   precision    recall        f1\n",
       "model                                           \n",
       "Baseline (LR)       0.850467  0.614865  0.713725\n",
       "GMM-balanced (LR)   0.088687  0.858108  0.160759"
      ]
     },
     "metadata": {},
     "output_type": "display_data"
    },
    {
     "data": {
      "image/png": "[encoded data removed]",
      "text/plain": [
       "<Figure size 800x400 with 1 Axes>"
      ]
     },
     "metadata": {},
     "output_type": "display_data"
    }
   ],
   "source": [
    "# Part C — Comparative table and bar chart for minority class (precision, recall, f1)\n",
    "\n",
    "from sklearn.metrics import precision_score, recall_score, f1_score\n",
    "\n",
    "# Baseline metrics\n",
    "y_probs_baseline = lr_baseline.predict_proba(X_test_scaled)[:,1]\n",
    "y_pred_baseline = lr_baseline.predict(X_test_scaled)\n",
    "baseline_prec = precision_score(y_test, y_pred_baseline)\n",
    "baseline_rec = recall_score(y_test, y_pred_baseline)\n",
    "baseline_f1 = f1_score(y_test, y_pred_baseline)\n",
    "\n",
    "# GMM model metrics (default threshold 0.5)\n",
    "gmm_prec = precision_score(y_test, y_pred_gmm)\n",
    "gmm_rec = recall_score(y_test, y_pred_gmm)\n",
    "gmm_f1 = f1_score(y_test, y_pred_gmm)\n",
    "\n",
    "# If you have SMOTE/CBO/CBU results already, include their best-threshold metrics as well.\n",
    "rows = [\n",
    "    {\"model\": \"Baseline (LR)\", \"precision\": baseline_prec, \"recall\": baseline_rec, \"f1\": baseline_f1},\n",
    "    {\"model\": \"GMM-balanced (LR)\", \"precision\": gmm_prec, \"recall\": gmm_rec, \"f1\": gmm_f1}\n",
    "]\n",
    "\n",
    "df_comp = pd.DataFrame(rows).set_index(\"model\")\n",
    "display(df_comp)\n",
    "\n",
    "# Bar chart\n",
    "plt.figure(figsize=(8,4))\n",
    "x = np.arange(df_comp.shape[0])\n",
    "width = 0.25\n",
    "plt.bar(x - width, df_comp[\"precision\"], width, label=\"Precision\")\n",
    "plt.bar(x, df_comp[\"recall\"], width, label=\"Recall\")\n",
    "plt.bar(x + width, df_comp[\"f1\"], width, label=\"F1\")\n",
    "plt.xticks(x, df_comp.index, rotation=20)\n",
    "plt.ylim(0,1.0)\n",
    "plt.title(\"Minority Class Metrics: Baseline vs GMM-balanced\")\n",
    "plt.legend()\n",
    "plt.tight_layout()\n",
    "plt.show()\n"
   ]
  },
  {
   "cell_type": "markdown",
   "id": "36ea40fb-7819-4e8c-99a9-c638e1067da2",
   "metadata": {},
   "source": [
    "# Part C — Recommendations (Markdown)\n",
    "\n",
    "- **Compare metrics**: discuss whether GMM improved recall / precision / F1 over baseline.\n",
    "- **If GMM improved F1 or recall**: highlight that GMM captured minority structure and produced useful synthetic samples.\n",
    "- **If not improved**: consider reasons — poor GMM fit, wrong number of components, synthetic samples overlapping majority, etc.\n",
    "- **Practical recommendation**:\n",
    "  - If F1 improved significantly and false positive rate acceptable → adopt GMM-based augmentation (possibly with threshold tuning).\n",
    "  - Otherwise consider hybrid strategy (CBU + GMM) or cluster-wise SMOTE as alternatives.\n",
    "- **Operational notes**:\n",
    "  - Re-train periodically as fraud distribution drifts.\n",
    "  - Use business costs (cost of false positive vs false negative) to set final decision threshold.\n"
   ]
  }
 ],
 "metadata": {
  "kernelspec": {
   "display_name": "Python 3 (ipykernel)",
   "language": "python",
   "name": "python3"
  },
  "language_info": {
   "codemirror_mode": {
    "name": "ipython",
    "version": 3
   },
   "file_extension": ".py",
   "mimetype": "text/x-python",
   "name": "python",
   "nbconvert_exporter": "python",
   "pygments_lexer": "ipython3",
   "version": "3.13.5"
  }
 },
 "nbformat": 4,
 "nbformat_minor": 5
}
